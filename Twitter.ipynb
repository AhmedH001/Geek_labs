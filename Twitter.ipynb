{
 "cells": [
  {
   "cell_type": "markdown",
   "id": "ab9ae949",
   "metadata": {},
   "source": [
    "# Importing Libraries\n",
    "### pandas: for data manipulation and analysis.\n",
    "### ntscraper: for scraping tweets from Twitter via Nitter.\n",
    "### re for regular: expressions, used for pattern matching.\n",
    "### datetime and timedelta: for handling date and time.\n",
    "### time: for time-related operations in our case put delay in functions."
   ]
  },
  {
   "cell_type": "code",
   "execution_count": 54,
   "id": "449d7968",
   "metadata": {
    "scrolled": true
   },
   "outputs": [],
   "source": [
    "import pandas as pd\n",
    "from ntscraper import Nitter\n",
    "import re\n",
    "from datetime import datetime, timedelta\n",
    "import time"
   ]
  },
  {
   "cell_type": "markdown",
   "id": "76b16a1a",
   "metadata": {},
   "source": [
    "### This line initializes the Nitter scraper for scraping tweets."
   ]
  },
  {
   "cell_type": "code",
   "execution_count": 84,
   "id": "733a4c22",
   "metadata": {
    "scrolled": true
   },
   "outputs": [
    {
     "name": "stderr",
     "output_type": "stream",
     "text": [
      "Testing instances:  92%|██████████████████████████████████████████████████████████     | 71/77 [01:25<00:05,  1.15it/s]"
     ]
    },
    {
     "name": "stdout",
     "output_type": "stream",
     "text": [
      "03-May-24 17:56:15 - Certificate did not match expected hostname: nt.ggtyler.dev. Certificate: {'subject': ((('commonName', '4g.ggtyler.dev'),),), 'issuer': ((('countryName', 'US'),), (('organizationName', \"Let's Encrypt\"),), (('commonName', 'R3'),)), 'version': 3, 'serialNumber': '048FA3D68DCD65927A6C57C2A3C9C1F8CA14', 'notBefore': 'Mar 15 00:26:35 2024 GMT', 'notAfter': 'Jun 13 00:26:34 2024 GMT', 'subjectAltName': (('DNS', '4g.ggtyler.dev'),), 'OCSP': ('http://r3.o.lencr.org',), 'caIssuers': ('http://r3.i.lencr.org/',)}\n"
     ]
    },
    {
     "name": "stderr",
     "output_type": "stream",
     "text": [
      "\r",
      "Testing instances:  94%|██████████████████████████████████████████████████████████▉    | 72/77 [01:25<00:03,  1.31it/s]"
     ]
    },
    {
     "name": "stdout",
     "output_type": "stream",
     "text": [
      "03-May-24 17:56:16 - Certificate did not match expected hostname: nitter.uni-sonia.com. Certificate: {'subject': ((('commonName', '*.xserver.jp'),),), 'issuer': ((('countryName', 'JP'),), (('organizationName', 'CloudSecure Corporation'),), (('commonName', 'CloudSecure RSA Domain Validation Secure Server CA 2'),)), 'version': 3, 'serialNumber': 'ACA67AD2030638EE2DCE8E845B8299A6', 'notBefore': 'Mar 11 00:00:00 2024 GMT', 'notAfter': 'Apr 11 23:59:59 2025 GMT', 'subjectAltName': (('DNS', '*.xserver.jp'), ('DNS', 'xserver.jp')), 'OCSP': ('http://ocsp.sectigo.com',), 'caIssuers': ('http://crt.sectigo.com/CloudSecureRSADomainValidationSecureServerCA2.crt',)}\n"
     ]
    },
    {
     "name": "stderr",
     "output_type": "stream",
     "text": [
      "Testing instances:  99%|██████████████████████████████████████████████████████████████▏| 76/77 [01:30<00:01,  1.08s/it]"
     ]
    },
    {
     "name": "stdout",
     "output_type": "stream",
     "text": [
      "03-May-24 17:56:20 - Certificate did not match expected hostname: nitter.tinfoil-hat.net. Certificate: {'subject': ((('commonName', 'jelly.tinfoil-hat.de'),),), 'issuer': ((('countryName', 'US'),), (('organizationName', \"Let's Encrypt\"),), (('commonName', 'R3'),)), 'version': 3, 'serialNumber': '03F338CE809E122DC2875C50A27A840DD7A4', 'notBefore': 'Mar 15 22:40:16 2024 GMT', 'notAfter': 'Jun 13 22:40:15 2024 GMT', 'subjectAltName': (('DNS', 'jelly.tinfoil-hat.de'),), 'OCSP': ('http://r3.o.lencr.org',), 'caIssuers': ('http://r3.i.lencr.org/',)}\n"
     ]
    },
    {
     "name": "stderr",
     "output_type": "stream",
     "text": [
      "Testing instances: 100%|███████████████████████████████████████████████████████████████| 77/77 [01:30<00:00,  1.18s/it]\n"
     ]
    }
   ],
   "source": [
    "scraper = Nitter()"
   ]
  },
  {
   "cell_type": "markdown",
   "id": "0bc416fb",
   "metadata": {},
   "source": [
    "### This Function extracts Twitter usernames from profile URLs. It employs regular expressions to extract the username from the URLs."
   ]
  },
  {
   "cell_type": "code",
   "execution_count": 7,
   "id": "6e8752f7",
   "metadata": {},
   "outputs": [],
   "source": [
    "def extract_username(profile_links):\n",
    "    usernames = []\n",
    "    for link in profile_links:\n",
    "        match = re.search(r'twitter.com/([A-Za-z0-9_]+)', link)\n",
    "        if match:\n",
    "            username = match.group(1)\n",
    "            usernames.append(username)\n",
    "        else:\n",
    "            print(\"Invalid Twitter profile link:\", link)\n",
    "    return usernames"
   ]
  },
  {
   "cell_type": "markdown",
   "id": "0813d0cc",
   "metadata": {},
   "source": [
    "### The Nitter scraper is used in this function to retrieve tweets from specified Twitter accounts. It then parses the tweets to extract important information and counts the occurrences of specific tickers within a defined time range. Finally, it produces an output message that summarises the ticker mentions and the total number of dollar signs (stocks) stated."
   ]
  },
  {
   "cell_type": "code",
   "execution_count": 158,
   "id": "a933a494",
   "metadata": {},
   "outputs": [],
   "source": [
    "def get_tweets(accounts, tickers, no_tweets, time_period_minutes):\n",
    "    final_tweets = []\n",
    "    total_dollar_signs = 0\n",
    "    for account in accounts:\n",
    "        tweets = scraper.get_tweets(account, mode=\"user\", number=no_tweets)\n",
    "        time.sleep(10)\n",
    "        for tweet in tweets['tweets']:\n",
    "            final_tweets.append([tweet['user']['username'], tweet['text'], tweet['date'], tweet['link']])\n",
    "            total_dollar_signs += tweet['text'].count('$')\n",
    "    \n",
    "    data = pd.DataFrame(final_tweets, columns=['username', 'text', 'date', 'link'])\n",
    "    \n",
    "    data['date'] = pd.to_datetime(data['date'], format='%b %d, %Y · %I:%M %p %Z')\n",
    "\n",
    "    ticker_counts = {}\n",
    "    \n",
    "    current_time = datetime.now().astimezone(data['date'].dt.tz)\n",
    "    time_threshold = current_time - timedelta(minutes=time_period_minutes)\n",
    "\n",
    "    filtered_data = data[data['date'] >= time_threshold]\n",
    "    for ticker in tickers:\n",
    "        ticker_counts[ticker] = filtered_data['text'].str.count(r'\\$' + re.escape(ticker)).sum()\n",
    "\n",
    "    output_message = \"\"\n",
    "    for ticker, count in ticker_counts.items():\n",
    "        output_message += f\"'${ticker}' was mentioned '{count}' times in the last '{time_period_minutes}' minutes.\\n\"\n",
    "    \n",
    "    output_message += f\"Total '$' signs mentioned across all tweets: {total_dollar_signs}\"\n",
    "    \n",
    "    return data, filtered_data, output_message"
   ]
  },
  {
   "cell_type": "markdown",
   "id": "94bc52c0",
   "metadata": {},
   "source": [
    "### This function saves DataFrame to a CSV file with the date of the ittration and time in its name."
   ]
  },
  {
   "cell_type": "code",
   "execution_count": 163,
   "id": "f5b3e381",
   "metadata": {},
   "outputs": [],
   "source": [
    "def save_to_csv(data, filename):\n",
    "    data.to_csv(filename, index=False)"
   ]
  },
  {
   "cell_type": "markdown",
   "id": "4353ef5c",
   "metadata": {},
   "source": [
    "### The input parameters for the get_tweets() function are defined here: Twitter profile URLs, tickers to search for, time period for filtering tweets, and the amount of tweets to obtain for each account."
   ]
  },
  {
   "cell_type": "code",
   "execution_count": 153,
   "id": "5d37f112",
   "metadata": {
    "scrolled": false
   },
   "outputs": [
    {
     "name": "stdout",
     "output_type": "stream",
     "text": [
      "Usernames extracted: ['Mr_Derivatives', 'warrior_0719', 'yuriymatso', 'ChartingProdigy', 'allstarcharts', 'TriggerTrades', 'AdamMancini4', 'CordovaTrades', 'Barchart', 'RoyLMattox']\n"
     ]
    }
   ],
   "source": [
    "profile_links = [\n",
    "    \"https://twitter.com/Mr_Derivatives\",\n",
    "    \"https://twitter.com/warrior_0719\",\n",
    "    \"https://twitter.com/yuriymatso\",\n",
    "    \"https://twitter.com/ChartingProdigy\",\n",
    "    \"https://twitter.com/allstarcharts\",\n",
    "    \"https://twitter.com/TriggerTrades\",\n",
    "    \"https://twitter.com/AdamMancini4\",\n",
    "    \"https://twitter.com/CordovaTrades\",\n",
    "    \"https://twitter.com/Barchart\",\n",
    "    \"https://twitter.com/RoyLMattox\"\n",
    "]\n",
    "\n",
    "usernames = extract_username(profile_links)\n",
    "print(\"Usernames extracted:\", usernames)\n",
    "\n",
    "tickers = ['TSLA', 'SPX', 'Ibit', 'PYPL']\n",
    "time_period_minutes = 5 #last 5 minutes\n",
    "no_tweets = 15"
   ]
  },
  {
   "cell_type": "markdown",
   "id": "b56ead41",
   "metadata": {},
   "source": [
    "### This section of the code generates a loop that continually monitors tweets, retrieves data, and saves it to a CSV file. It asks the user at the end of the loop if they want to stop it or not, and it waits 90 seconds for the following cycle. If stopped, it exits the loop and terminates the monitoring process."
   ]
  },
  {
   "cell_type": "code",
   "execution_count": 164,
   "id": "807f8a8e",
   "metadata": {
    "scrolled": true
   },
   "outputs": [
    {
     "name": "stdout",
     "output_type": "stream",
     "text": [
      "03-May-24 20:56:35 - No instance specified, using random instance https://nitter.privacydev.net\n",
      "03-May-24 20:56:41 - Current stats for Mr_Derivatives: 15 tweets, 0 threads...\n",
      "03-May-24 20:56:51 - No instance specified, using random instance https://nitter.privacydev.net\n",
      "03-May-24 20:56:55 - Current stats for warrior_0719: 15 tweets, 0 threads...\n",
      "03-May-24 20:57:05 - No instance specified, using random instance https://nitter.esmailelbob.xyz\n",
      "03-May-24 20:57:06 - Fetching error: Instance has been rate limited.Use another instance or try again later.\n",
      "03-May-24 20:57:18 - No instance specified, using random instance https://nitter.privacydev.net\n",
      "03-May-24 20:57:23 - Current stats for ChartingProdigy: 15 tweets, 0 threads...\n",
      "03-May-24 20:57:33 - No instance specified, using random instance https://nitter.privacydev.net\n",
      "03-May-24 20:57:39 - Current stats for allstarcharts: 15 tweets, 0 threads...\n",
      "03-May-24 20:57:49 - No instance specified, using random instance https://nitter.privacydev.net\n",
      "03-May-24 20:57:50 - Empty page on https://nitter.privacydev.net\n",
      "03-May-24 20:58:02 - No instance specified, using random instance https://nitter.esmailelbob.xyz\n",
      "03-May-24 20:58:08 - Current stats for AdamMancini4: 15 tweets, 0 threads...\n",
      "03-May-24 20:58:18 - No instance specified, using random instance https://nitter.privacydev.net\n",
      "03-May-24 20:58:26 - Current stats for CordovaTrades: 15 tweets, 0 threads...\n",
      "03-May-24 20:58:36 - No instance specified, using random instance https://nitter.esmailelbob.xyz\n",
      "03-May-24 20:58:42 - Current stats for Barchart: 15 tweets, 0 threads...\n",
      "03-May-24 20:58:52 - No instance specified, using random instance https://nitter.privacydev.net\n",
      "03-May-24 20:58:57 - Current stats for RoyLMattox: 15 tweets, 0 threads...\n",
      "'$TSLA' was mentioned '0' times in the last '5' minutes.\n",
      "'$SPX' was mentioned '0' times in the last '5' minutes.\n",
      "'$Ibit' was mentioned '0' times in the last '5' minutes.\n",
      "'$PYPL' was mentioned '0' times in the last '5' minutes.\n",
      "Total '$' signs mentioned across all tweets: 152\n",
      "Do you want to stop? (Enter 'N' for NO, 'Y' for YES): n\n",
      "wait for 90 seconds for the next iteration\n",
      "03-May-24 21:00:52 - No instance specified, using random instance https://nitter.privacydev.net\n",
      "03-May-24 21:00:58 - Current stats for Mr_Derivatives: 15 tweets, 0 threads...\n",
      "03-May-24 21:01:08 - No instance specified, using random instance https://nitter.privacydev.net\n",
      "03-May-24 21:01:13 - Current stats for warrior_0719: 15 tweets, 0 threads...\n",
      "03-May-24 21:01:23 - No instance specified, using random instance https://nitter.privacydev.net\n",
      "03-May-24 21:01:28 - Current stats for yuriymatso: 15 tweets, 0 threads...\n",
      "03-May-24 21:01:38 - No instance specified, using random instance https://nitter.esmailelbob.xyz\n",
      "03-May-24 21:01:43 - Current stats for ChartingProdigy: 15 tweets, 0 threads...\n",
      "03-May-24 21:01:53 - No instance specified, using random instance https://nitter.esmailelbob.xyz\n",
      "03-May-24 21:01:59 - Current stats for allstarcharts: 15 tweets, 0 threads...\n",
      "03-May-24 21:02:09 - No instance specified, using random instance https://nitter.privacydev.net\n",
      "03-May-24 21:02:09 - Empty page on https://nitter.privacydev.net\n",
      "03-May-24 21:02:21 - No instance specified, using random instance https://nitter.privacydev.net\n",
      "03-May-24 21:02:22 - Empty page on https://nitter.privacydev.net\n",
      "03-May-24 21:02:34 - No instance specified, using random instance https://nitter.esmailelbob.xyz\n",
      "03-May-24 21:02:40 - Current stats for CordovaTrades: 15 tweets, 0 threads...\n",
      "03-May-24 21:02:50 - No instance specified, using random instance https://nitter.privacydev.net\n",
      "03-May-24 21:02:54 - Empty page on https://nitter.privacydev.net\n",
      "03-May-24 21:03:06 - No instance specified, using random instance https://nitter.privacydev.net\n",
      "03-May-24 21:03:10 - Current stats for RoyLMattox: 15 tweets, 0 threads...\n",
      "'$TSLA' was mentioned '0' times in the last '5' minutes.\n",
      "'$SPX' was mentioned '1' times in the last '5' minutes.\n",
      "'$Ibit' was mentioned '0' times in the last '5' minutes.\n",
      "'$PYPL' was mentioned '0' times in the last '5' minutes.\n",
      "Total '$' signs mentioned across all tweets: 134\n",
      "Do you want to stop? (Enter 'N' for NO, 'Y' for YES): n\n",
      "wait for 90 seconds for the next iteration\n",
      "03-May-24 21:05:22 - No instance specified, using random instance https://nitter.esmailelbob.xyz\n",
      "03-May-24 21:05:28 - Current stats for Mr_Derivatives: 15 tweets, 0 threads...\n",
      "03-May-24 21:05:38 - No instance specified, using random instance https://nitter.privacydev.net\n",
      "03-May-24 21:05:42 - Current stats for warrior_0719: 15 tweets, 0 threads...\n",
      "03-May-24 21:05:52 - No instance specified, using random instance https://nitter.esmailelbob.xyz\n",
      "03-May-24 21:05:53 - Fetching error: Instance has been rate limited.Use another instance or try again later.\n",
      "03-May-24 21:06:05 - No instance specified, using random instance https://nitter.privacydev.net\n",
      "03-May-24 21:06:10 - Current stats for ChartingProdigy: 15 tweets, 0 threads...\n",
      "03-May-24 21:06:20 - No instance specified, using random instance https://nitter.privacydev.net\n",
      "03-May-24 21:06:25 - Current stats for allstarcharts: 15 tweets, 0 threads...\n",
      "03-May-24 21:06:35 - No instance specified, using random instance https://nitter.privacydev.net\n",
      "03-May-24 21:06:40 - Current stats for TriggerTrades: 15 tweets, 0 threads...\n",
      "03-May-24 21:06:50 - No instance specified, using random instance https://nitter.esmailelbob.xyz\n",
      "03-May-24 21:06:51 - Fetching error: Instance has been rate limited.Use another instance or try again later.\n",
      "03-May-24 21:07:03 - No instance specified, using random instance https://nitter.privacydev.net\n",
      "03-May-24 21:07:10 - Current stats for CordovaTrades: 15 tweets, 0 threads...\n",
      "03-May-24 21:07:20 - No instance specified, using random instance https://nitter.privacydev.net\n",
      "03-May-24 21:07:20 - Empty page on https://nitter.privacydev.net\n",
      "03-May-24 21:07:32 - No instance specified, using random instance https://nitter.esmailelbob.xyz\n",
      "03-May-24 21:07:38 - Current stats for RoyLMattox: 15 tweets, 0 threads...\n",
      "'$TSLA' was mentioned '0' times in the last '5' minutes.\n",
      "'$SPX' was mentioned '0' times in the last '5' minutes.\n",
      "'$Ibit' was mentioned '0' times in the last '5' minutes.\n",
      "'$PYPL' was mentioned '0' times in the last '5' minutes.\n",
      "Total '$' signs mentioned across all tweets: 174\n",
      "Do you want to stop? (Enter 'N' for NO, 'Y' for YES): y\n",
      "Task finished\n"
     ]
    }
   ],
   "source": [
    "while True:\n",
    "    current_time = datetime.now().strftime(\"%Y-%m-%d_%H-%M-%S\")\n",
    "    tweets_df, filtered_tweets_df, output_message = get_tweets(usernames, tickers, no_tweets, time_period_minutes)\n",
    "    print(output_message)\n",
    "    \n",
    "    save_to_csv(tweets_df, f\"tweets_{current_time}.csv\")\n",
    "    \n",
    "    stop_command = input(\"Do you want to stop? (Enter 'N' for NO, 'Y' for YES): \")\n",
    "    if(stop_command.lower() == 'y'):\n",
    "        print(\"Task finished\")\n",
    "        break;\n",
    "    else:\n",
    "        print(\"wait for 90 seconds for the next iteration\")\n",
    "        time.sleep(90)\n",
    "        continue\n",
    "    print(\"Stopping tweet monitoring loop.\")\n",
    "    break"
   ]
  }
 ],
 "metadata": {
  "kernelspec": {
   "display_name": "Python 3 (ipykernel)",
   "language": "python",
   "name": "python3"
  },
  "language_info": {
   "codemirror_mode": {
    "name": "ipython",
    "version": 3
   },
   "file_extension": ".py",
   "mimetype": "text/x-python",
   "name": "python",
   "nbconvert_exporter": "python",
   "pygments_lexer": "ipython3",
   "version": "3.9.13"
  }
 },
 "nbformat": 4,
 "nbformat_minor": 5
}
